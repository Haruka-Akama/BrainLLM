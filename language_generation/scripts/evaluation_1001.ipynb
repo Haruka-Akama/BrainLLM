{
 "cells": [
  {
   "cell_type": "code",
   "execution_count": 12,
   "id": "98e4f7ca",
   "metadata": {},
   "outputs": [],
   "source": [
    "%reload_ext autoreload\n",
    "%autoreload 2\n",
    "from jupyter_utils import get_iterate_results, show_significance, scatter_plot_comparation, get_comparation_cases,plot_context_length2performance,language_evaluate_mask_with_sig,get_results, plot_context_length2performance_all\n",
    "import numpy as np\n"
   ]
  },
  {
   "cell_type": "code",
   "execution_count": 16,
   "id": "ad98bbb6",
   "metadata": {},
   "outputs": [
    {
     "name": "stdout",
     "output_type": "stream",
     "text": [
      "P01:\tcorpus_bleu_score_1: 0.254 rouge_1: 0.254 rouge_l: 0.245 loss: 2.657\n",
      "M02:\tcorpus_bleu_score_1: 0.251 rouge_1: 0.250 rouge_l: 0.244 loss: 2.723\n",
      "M04:\tcorpus_bleu_score_1: 0.247 rouge_1: 0.240 rouge_l: 0.231 loss: 2.686\n",
      "M07:\tcorpus_bleu_score_1: 0.255 rouge_1: 0.260 rouge_l: 0.251 loss: 2.684\n",
      "M15:\tcorpus_bleu_score_1: 0.254 rouge_1: 0.245 rouge_l: 0.234 loss: 2.682\n",
      "corpus_bleu_score_1: 0.2523351355629837 rouge_1: 0.2497508539280691 rouge_l: 0.24113120353626685 valid_loss: 2.6865054208266583\n",
      "P01:\tcorpus_bleu_score_1: 0.241 rouge_1: 0.243 rouge_l: 0.235 loss: 2.739\n",
      "M02:\tdataset Pereira and parameters gpt2-xl_lr1e-2_b8_mask missing user M02, path_name: ../results/1001_Pereira_M02_gpt2-xl_lr1e-2_b8_mask/test.json\n",
      "corpus_bleu_score_1: 0.241 rouge_1: 0.243 rouge_l: 0.235 loss: 2.739\n",
      "M04:\tdataset Pereira and parameters gpt2-xl_lr1e-2_b8_mask missing user M04, path_name: ../results/1001_Pereira_M04_gpt2-xl_lr1e-2_b8_mask/test.json\n",
      "corpus_bleu_score_1: 0.241 rouge_1: 0.243 rouge_l: 0.235 loss: 2.739\n",
      "M07:\tdataset Pereira and parameters gpt2-xl_lr1e-2_b8_mask missing user M07, path_name: ../results/1001_Pereira_M07_gpt2-xl_lr1e-2_b8_mask/test.json\n",
      "corpus_bleu_score_1: 0.241 rouge_1: 0.243 rouge_l: 0.235 loss: 2.739\n",
      "M15:\tdataset Pereira and parameters gpt2-xl_lr1e-2_b8_mask missing user M15, path_name: ../results/1001_Pereira_M15_gpt2-xl_lr1e-2_b8_mask/test.json\n",
      "corpus_bleu_score_1: 0.241 rouge_1: 0.243 rouge_l: 0.235 loss: 2.739\n",
      "corpus_bleu_score_1: 0.24076509519547495 rouge_1: 0.24252561784207352 rouge_l: 0.23474984930681134 valid_loss: 2.7393613403608024\n",
      "corpus_bleu_score_1: 0.2523351355629837,0.24076509519547495,0.00622920777567277\n",
      "rouge_1: 0.2497508539280691, 0.24252561784207352, 0.19023532121809\n",
      "rouge_l: 0.24113120353626685, 0.23474984930681134, 0.2383236219298182\n",
      "valid_loss: 2.6865054208266583, 2.7393613403608024, 1.0828654716431005e-13\n",
      "bert_scores: nan, nan, nan\n",
      "bert_scores_part: nan, nan, nan\n",
      "\n",
      "acc is  0.5839662447257384\n"
     ]
    }
   ],
   "source": [
    "result_1 = get_iterate_results(base_path = '../results/', para_str = 'gpt2-xl_lr1e-4_b8_pre10', dataset_name='Pereira', print_log=True, bert_metric=None, pre_str = '1001_', file_name='test.json')\n",
    "result_2 = get_iterate_results(base_path = '../results/', para_str = 'gpt2-xl_lr1e-2_b8_mask', dataset_name='Pereira', print_log=True, pre_str = '1001_', bert_metric=None, file_name='test.json')\n",
    "show_significance(result_1, result_2)\n",
    "print('acc is ', np.sum(np.array(result_1['valid_loss']) < np.array(result_2['valid_loss']))/len(result_1['valid_loss']))\n",
    "# scatter_plot_comparation(result_1, result_2, metric = 'bert_scores')\n",
    "# scatter_plot_comparation(result_1, result_2, metric = 'corpus_bleu_score_1')"
   ]
  },
  {
   "cell_type": "code",
   "execution_count": 21,
   "id": "30ed788a",
   "metadata": {},
   "outputs": [
    {
     "name": "stdout",
     "output_type": "stream",
     "text": [
      "P01:\tcorpus_bleu_score_1: 0.292 rouge_1: 0.297 rouge_l: 0.284 loss: 2.121\n",
      "M02:\tcorpus_bleu_score_1: 0.267 rouge_1: 0.275 rouge_l: 0.258 loss: 2.119\n",
      "M04:\tcorpus_bleu_score_1: 0.256 rouge_1: 0.258 rouge_l: 0.245 loss: 2.140\n",
      "M07:\tcorpus_bleu_score_1: 0.264 rouge_1: 0.271 rouge_l: 0.256 loss: 2.143\n",
      "M15:\tcorpus_bleu_score_1: 0.275 rouge_1: 0.288 rouge_l: 0.276 loss: 2.138\n",
      "corpus_bleu_score_1: 0.27096077762892606 rouge_1: 0.2778923046011653 rouge_l: 0.26385774562989756 valid_loss: 2.13231277697197\n",
      "P01:\tcorpus_bleu_score_1: 0.047 rouge_1: 0.050 rouge_l: 0.047 loss: 2.246\n",
      "M02:\tdataset Pereira and parameters llama-7b_lr1e-3_b8_mask missing user M02, path_name: ../results/1001_Pereira_M02_llama-7b_lr1e-3_b8_mask/test.json\n",
      "corpus_bleu_score_1: 0.047 rouge_1: 0.050 rouge_l: 0.047 loss: 2.246\n",
      "M04:\tdataset Pereira and parameters llama-7b_lr1e-3_b8_mask missing user M04, path_name: ../results/1001_Pereira_M04_llama-7b_lr1e-3_b8_mask/test.json\n",
      "corpus_bleu_score_1: 0.047 rouge_1: 0.050 rouge_l: 0.047 loss: 2.246\n",
      "M07:\tdataset Pereira and parameters llama-7b_lr1e-3_b8_mask missing user M07, path_name: ../results/1001_Pereira_M07_llama-7b_lr1e-3_b8_mask/test.json\n",
      "corpus_bleu_score_1: 0.047 rouge_1: 0.050 rouge_l: 0.047 loss: 2.246\n",
      "M15:\tdataset Pereira and parameters llama-7b_lr1e-3_b8_mask missing user M15, path_name: ../results/1001_Pereira_M15_llama-7b_lr1e-3_b8_mask/test.json\n",
      "corpus_bleu_score_1: 0.047 rouge_1: 0.050 rouge_l: 0.047 loss: 2.246\n",
      "corpus_bleu_score_1: 0.04665963431786217 rouge_1: 0.05028129395218003 rouge_l: 0.04711673699015471 valid_loss: 2.2463703887372075\n",
      "corpus_bleu_score_1: 0.27096077762892606,0.04665963431786217,1.1360814386560405e-157\n",
      "rouge_1: 0.2778923046011653, 0.05028129395218003, 1.946444799444774e-120\n",
      "rouge_l: 0.26385774562989756, 0.04711673699015471, 4.326618257934372e-115\n",
      "valid_loss: 2.13231277697197, 2.2463703887372075, 2.9218716547074293e-33\n",
      "bert_scores: nan, nan, nan\n",
      "bert_scores_part: nan, nan, nan\n",
      "\n",
      "acc is  0.6582278481012658\n"
     ]
    }
   ],
   "source": [
    "result_1 = get_iterate_results(base_path = '../results/', para_str = 'llama-7b_lr1e-4_b8_pre10_a0.005_l20.5', dataset_name='Pereira', print_log=True, bert_metric=None, pre_str = '09_30_',)\n",
    "result_2 = get_iterate_results(base_path = '../results/', para_str = 'llama-7b_lr1e-3_b8_mask', dataset_name='Pereira', print_log=True, pre_str = '1001_', bert_metric=None,)\n",
    "show_significance(result_1, result_2)\n",
    "print('acc is ', np.sum(np.array(result_1['valid_loss']) < np.array(result_2['valid_loss']))/len(result_1['valid_loss']))\n",
    "# scatter_plot_comparation(result_1, result_2, metric = 'bert_scores')\n",
    "# scatter_plot_comparation(result_1, result_2, metric = 'corpus_bleu_score_1')"
   ]
  },
  {
   "cell_type": "code",
   "execution_count": null,
   "id": "3189de2d",
   "metadata": {},
   "outputs": [],
   "source": []
  }
 ],
 "metadata": {
  "kernelspec": {
   "display_name": "Python 3 (ipykernel)",
   "language": "python",
   "name": "python3"
  },
  "language_info": {
   "codemirror_mode": {
    "name": "ipython",
    "version": 3
   },
   "file_extension": ".py",
   "mimetype": "text/x-python",
   "name": "python",
   "nbconvert_exporter": "python",
   "pygments_lexer": "ipython3",
   "version": "3.8.12"
  }
 },
 "nbformat": 4,
 "nbformat_minor": 5
}
