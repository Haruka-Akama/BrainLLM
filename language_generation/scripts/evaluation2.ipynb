{
 "cells": [
  {
   "cell_type": "code",
   "execution_count": 1,
   "id": "b253d2cd",
   "metadata": {},
   "outputs": [],
   "source": [
    "%reload_ext autoreload\n",
    "%autoreload 2\n",
    "from jupyter_utils import get_iterate_results, show_significance, scatter_plot_comparation, get_comparation_cases,plot_context_length2performance,language_evaluate_mask_with_sig,get_results, plot_context_length2performance_all\n"
   ]
  },
  {
   "cell_type": "code",
   "execution_count": 4,
   "id": "edcf9e29",
   "metadata": {},
   "outputs": [
    {
     "name": "stdout",
     "output_type": "stream",
     "text": [
      "P01:\tcorpus_bleu_score_1: 0.20565714285714284 rouge_1: 0.18933333333333333 rouge_l: 0.18753333333333333\n",
      "M02:\tcorpus_bleu_score_1: 0.16598095238095237 rouge_1: 0.15266666666666664 rouge_l: 0.14806666666666665\n",
      "M04:\tcorpus_bleu_score_1: 0.17519047619047617 rouge_1: 0.16240000000000002 rouge_l: 0.1568\n",
      "M07:\tcorpus_bleu_score_1: 0.11265714285714286 rouge_1: 0.07786666666666667 rouge_l: 0.07706666666666666\n",
      "M15:\tcorpus_bleu_score_1: 0.18140476190476187 rouge_1: 0.15473333333333336 rouge_l: 0.15393333333333334\n",
      "corpus_bleu_score_1: 0.16817809523809524 rouge_1: 0.1474 rouge_l: 0.14468000000000003 valid_loss: 3.6462420838832856\n",
      "P01:\tcorpus_bleu_score_1: 0.11746666666666666 rouge_1: 0.08786666666666666 rouge_l: 0.08786666666666666\n",
      "M02:\tdataset Pereira and parameters gpt2-medium_lr1e-5_b4_random missing user M02\n",
      "corpus_bleu_score_1: 0.11746666666666666 rouge_1: 0.08786666666666666 rouge_l: 0.08786666666666666\n",
      "M04:\tdataset Pereira and parameters gpt2-medium_lr1e-5_b4_random missing user M04\n",
      "corpus_bleu_score_1: 0.11746666666666666 rouge_1: 0.08786666666666666 rouge_l: 0.08786666666666666\n",
      "M07:\tdataset Pereira and parameters gpt2-medium_lr1e-5_b4_random missing user M07\n",
      "corpus_bleu_score_1: 0.11746666666666666 rouge_1: 0.08786666666666666 rouge_l: 0.08786666666666666\n",
      "M15:\tdataset Pereira and parameters gpt2-medium_lr1e-5_b4_random missing user M15\n",
      "corpus_bleu_score_1: 0.11746666666666666 rouge_1: 0.08786666666666666 rouge_l: 0.08786666666666666\n",
      "corpus_bleu_score_1: 0.11746666666666668 rouge_1: 0.08786666666666668 rouge_l: 0.08786666666666668 valid_loss: 4.062960298061371\n",
      "corpus_bleu_score_1: 0.16817809523809524,0.11746666666666668,1.9291685058272522e-27\n",
      "rouge_1: 0.1474, 0.08786666666666668, 1.9696522596666067e-26\n",
      "rouge_l: 0.14468000000000003, 0.08786666666666668, 1.2342960910009981e-24\n",
      "valid_loss: 3.6462420838832856, 4.062960298061371, 5.511024010759313e-34\n",
      "bert_scores: nan, nan, nan\n",
      "bert_scores_part: nan, nan, nan\n",
      "\n"
     ]
    }
   ],
   "source": [
    "result_1 = get_iterate_results(base_path = '../results/', para_str = 'gpt2-medium_lr1e-5_b4', dataset_name='Pereira', print_log=True, bert_metric=None)\n",
    "result_2 = get_iterate_results(base_path = '../results/', para_str = 'gpt2-medium_lr1e-5_b4_random', dataset_name='Pereira', print_log=True, bert_metric=None)\n",
    "show_significance(result_1, result_2)\n",
    "# 漏加pos了...\n",
    "\n"
   ]
  },
  {
   "cell_type": "code",
   "execution_count": 5,
   "id": "2eb6fd32",
   "metadata": {},
   "outputs": [
    {
     "name": "stdout",
     "output_type": "stream",
     "text": [
      "P01:\tcorpus_bleu_score_1: 0.22944761904761904 rouge_1: 0.2086 rouge_l: 0.2076\n",
      "M02:\tcorpus_bleu_score_1: 0.22735238095238097 rouge_1: 0.20826666666666666 rouge_l: 0.20513333333333333\n",
      "M04:\tcorpus_bleu_score_1: 0.22218095238095237 rouge_1: 0.2033333333333333 rouge_l: 0.20073333333333335\n",
      "M07:\tcorpus_bleu_score_1: 0.2208095238095238 rouge_1: 0.19786666666666664 rouge_l: 0.1945333333333333\n",
      "M15:\tcorpus_bleu_score_1: 0.22794285714285714 rouge_1: 0.21873333333333334 rouge_l: 0.21480000000000002\n",
      "corpus_bleu_score_1: 0.22554666666666662 rouge_1: 0.20736 rouge_l: 0.20456 valid_loss: 2.838307688140869\n",
      "P01:\tcorpus_bleu_score_1: 0.2007 rouge_1: 0.2023333333333333 rouge_l: 0.19793333333333332\n",
      "M02:\tdataset Pereira and parameters gpt2-large_lr1e-5_b4_random missing user M02\n",
      "corpus_bleu_score_1: 0.2007 rouge_1: 0.2023333333333333 rouge_l: 0.19793333333333332\n",
      "M04:\tdataset Pereira and parameters gpt2-large_lr1e-5_b4_random missing user M04\n",
      "corpus_bleu_score_1: 0.2007 rouge_1: 0.2023333333333333 rouge_l: 0.19793333333333332\n",
      "M07:\tdataset Pereira and parameters gpt2-large_lr1e-5_b4_random missing user M07\n",
      "corpus_bleu_score_1: 0.2007 rouge_1: 0.2023333333333333 rouge_l: 0.19793333333333332\n",
      "M15:\tdataset Pereira and parameters gpt2-large_lr1e-5_b4_random missing user M15\n",
      "corpus_bleu_score_1: 0.2007 rouge_1: 0.2023333333333333 rouge_l: 0.19793333333333332\n",
      "corpus_bleu_score_1: 0.2007 rouge_1: 0.20233333333333334 rouge_l: 0.19793333333333332 valid_loss: 2.9498980786800386\n",
      "corpus_bleu_score_1: 0.22554666666666662,0.2007,3.774512265019665e-07\n",
      "rouge_1: 0.20736, 0.20233333333333334, 0.3992110338300172\n",
      "rouge_l: 0.20456, 0.19793333333333332, 0.25891701189740496\n",
      "valid_loss: 2.838307688140869, 2.9498980786800386, 1.562274199710541e-33\n",
      "bert_scores: nan, nan, nan\n",
      "bert_scores_part: nan, nan, nan\n",
      "\n"
     ]
    }
   ],
   "source": [
    "result_1 = get_iterate_results(base_path = '../results/', para_str = 'gpt2-large_lr1e-5_b4', dataset_name='Pereira', print_log=True, bert_metric=None)\n",
    "result_2 = get_iterate_results(base_path = '../results/', para_str = 'gpt2-large_lr1e-5_b4_random', dataset_name='Pereira', print_log=True, bert_metric=None)\n",
    "show_significance(result_1, result_2)\n",
    "# 漏加pos了...\n",
    "\n"
   ]
  },
  {
   "cell_type": "code",
   "execution_count": 6,
   "id": "9f65e3eb",
   "metadata": {},
   "outputs": [
    {
     "name": "stdout",
     "output_type": "stream",
     "text": [
      "P01:\tcorpus_bleu_score_1: 0.2428761904761905 rouge_1: 0.2313333333333333 rouge_l: 0.22699999999999998\n",
      "M02:\tcorpus_bleu_score_1: 0.2299047619047619 rouge_1: 0.21613333333333332 rouge_l: 0.2118\n",
      "M04:\tcorpus_bleu_score_1: 0.23852857142857145 rouge_1: 0.23033333333333333 rouge_l: 0.22453333333333333\n",
      "M07:\tcorpus_bleu_score_1: 0.23323809523809524 rouge_1: 0.22133333333333335 rouge_l: 0.21486666666666668\n",
      "M15:\tcorpus_bleu_score_1: 0.24615714285714285 rouge_1: 0.24173333333333336 rouge_l: 0.23806666666666668\n",
      "corpus_bleu_score_1: 0.23814095238095234 rouge_1: 0.2281733333333333 rouge_l: 0.22325333333333328 valid_loss: 2.73407662627697\n",
      "P01:\tcorpus_bleu_score_1: 0.21486190476190473 rouge_1: 0.2116666666666667 rouge_l: 0.2082\n",
      "M02:\tdataset Pereira and parameters gpt2-xl_lr1e-5_b4_random missing user M02\n",
      "corpus_bleu_score_1: 0.21486190476190473 rouge_1: 0.2116666666666667 rouge_l: 0.2082\n",
      "M04:\tdataset Pereira and parameters gpt2-xl_lr1e-5_b4_random missing user M04\n",
      "corpus_bleu_score_1: 0.21486190476190473 rouge_1: 0.2116666666666667 rouge_l: 0.2082\n",
      "M07:\tdataset Pereira and parameters gpt2-xl_lr1e-5_b4_random missing user M07\n",
      "corpus_bleu_score_1: 0.21486190476190473 rouge_1: 0.2116666666666667 rouge_l: 0.2082\n",
      "M15:\tdataset Pereira and parameters gpt2-xl_lr1e-5_b4_random missing user M15\n",
      "corpus_bleu_score_1: 0.21486190476190473 rouge_1: 0.2116666666666667 rouge_l: 0.2082\n",
      "corpus_bleu_score_1: 0.21486190476190478 rouge_1: 0.21166666666666664 rouge_l: 0.2082 valid_loss: 2.812068874001503\n",
      "corpus_bleu_score_1: 0.23814095238095234,0.21486190476190478,1.652170961921593e-08\n",
      "rouge_1: 0.2281733333333333, 0.21166666666666664, 0.003147823039338266\n",
      "rouge_l: 0.22325333333333328, 0.2082, 0.006170867313211347\n",
      "valid_loss: 2.73407662627697, 2.812068874001503, 7.031199182040007e-27\n",
      "bert_scores: nan, nan, nan\n",
      "bert_scores_part: nan, nan, nan\n",
      "\n"
     ]
    }
   ],
   "source": [
    "result_1 = get_iterate_results(base_path = '../results/', para_str = 'gpt2-xl_lr1e-5_b4', dataset_name='Pereira', print_log=True, bert_metric=None)\n",
    "result_2 = get_iterate_results(base_path = '../results/', para_str = 'gpt2-xl_lr1e-5_b4_random', dataset_name='Pereira', print_log=True, bert_metric=None)\n",
    "show_significance(result_1, result_2)\n",
    "# 漏加pos了...\n",
    "\n"
   ]
  },
  {
   "cell_type": "code",
   "execution_count": 7,
   "id": "abc59d74",
   "metadata": {},
   "outputs": [
    {
     "name": "stdout",
     "output_type": "stream",
     "text": [
      "P01:\tcorpus_bleu_score_1: 0.2330952380952381 rouge_1: 0.22026666666666664 rouge_l: 0.21480000000000002\n",
      "M02:\tcorpus_bleu_score_1: 0.1693142857142857 rouge_1: 0.1462 rouge_l: 0.14339999999999997\n",
      "M04:\tcorpus_bleu_score_1: 0.24087619047619047 rouge_1: 0.23479999999999998 rouge_l: 0.229\n",
      "M07:\tcorpus_bleu_score_1: 0.2104095238095238 rouge_1: 0.1932 rouge_l: 0.184\n",
      "M15:\tcorpus_bleu_score_1: 0.22910501464980196 rouge_1: 0.2172 rouge_l: 0.21146666666666666\n",
      "corpus_bleu_score_1: 0.21656005054900798 rouge_1: 0.20233333333333334 rouge_l: 0.19653333333333334 valid_loss: 2.2968177982330324\n",
      "P01:\tcorpus_bleu_score_1: 0.2309593460893205 rouge_1: 0.23206666666666667 rouge_l: 0.2263333333333333\n",
      "M02:\tdataset Pereira and parameters llama-7b_lr1e-5_b4_random missing user M02\n",
      "corpus_bleu_score_1: 0.2309593460893205 rouge_1: 0.23206666666666667 rouge_l: 0.2263333333333333\n",
      "M04:\tdataset Pereira and parameters llama-7b_lr1e-5_b4_random missing user M04\n",
      "corpus_bleu_score_1: 0.2309593460893205 rouge_1: 0.23206666666666667 rouge_l: 0.2263333333333333\n",
      "M07:\tdataset Pereira and parameters llama-7b_lr1e-5_b4_random missing user M07\n",
      "corpus_bleu_score_1: 0.2309593460893205 rouge_1: 0.23206666666666667 rouge_l: 0.2263333333333333\n",
      "M15:\tdataset Pereira and parameters llama-7b_lr1e-5_b4_random missing user M15\n",
      "corpus_bleu_score_1: 0.2309593460893205 rouge_1: 0.23206666666666667 rouge_l: 0.2263333333333333\n",
      "corpus_bleu_score_1: 0.23095934608932048 rouge_1: 0.23206666666666664 rouge_l: 0.22633333333333336 valid_loss: 2.4327269501686097\n",
      "corpus_bleu_score_1: 0.21656005054900798,0.23095934608932048,0.005552071312170505\n",
      "rouge_1: 0.20233333333333334, 0.23206666666666664, 2.989657701115685e-06\n",
      "rouge_l: 0.19653333333333334, 0.22633333333333336, 1.850410947890028e-06\n",
      "valid_loss: 2.2968177982330324, 2.4327269501686097, 1.5616673552778143e-42\n",
      "bert_scores: nan, nan, nan\n",
      "bert_scores_part: nan, nan, nan\n",
      "\n"
     ]
    }
   ],
   "source": [
    "result_1 = get_iterate_results(base_path = '../results/', para_str = 'llama-7b_lr1e-5_b4', dataset_name='Pereira', print_log=True, bert_metric=None)\n",
    "result_2 = get_iterate_results(base_path = '../results/', para_str = 'llama-7b_lr1e-5_b4_random', dataset_name='Pereira', print_log=True, bert_metric=None)\n",
    "show_significance(result_1, result_2)\n",
    "# 漏加pos了...\n",
    "\n"
   ]
  },
  {
   "cell_type": "code",
   "execution_count": 8,
   "id": "374f4ae2",
   "metadata": {},
   "outputs": [
    {
     "name": "stdout",
     "output_type": "stream",
     "text": [
      "P01:\tcorpus_bleu_score_1: 0.2753238095238095 rouge_1: 0.25647619047619047 rouge_l: 0.2498095238095238\n",
      "M02:\tcorpus_bleu_score_1: 0.26757619047619047 rouge_1: 0.27979999999999994 rouge_l: 0.2722\n",
      "M04:\tcorpus_bleu_score_1: 0.27625714285714287 rouge_1: 0.2601333333333333 rouge_l: 0.2513333333333333\n",
      "M07:\tcorpus_bleu_score_1: 0.2698666666666667 rouge_1: 0.28373333333333334 rouge_l: 0.27446666666666664\n",
      "M15:\tcorpus_bleu_score_1: 0.2674714285714285 rouge_1: 0.2742 rouge_l: 0.2666\n",
      "corpus_bleu_score_1: 0.2712990476190476 rouge_1: 0.27086857142857146 rouge_l: 0.26288190476190476 valid_loss: 2.1449787120223047\n",
      "P01:\tcorpus_bleu_score_1: 0.22065714285714286 rouge_1: 0.2343333333333333 rouge_l: 0.22846666666666668\n",
      "M02:\tdataset Pereira and parameters llama-7b_lr1e-5_tid1,2_b2_random missing user M02\n",
      "corpus_bleu_score_1: 0.22065714285714286 rouge_1: 0.2343333333333333 rouge_l: 0.22846666666666668\n",
      "M04:\tdataset Pereira and parameters llama-7b_lr1e-5_tid1,2_b2_random missing user M04\n",
      "corpus_bleu_score_1: 0.22065714285714286 rouge_1: 0.2343333333333333 rouge_l: 0.22846666666666668\n",
      "M07:\tdataset Pereira and parameters llama-7b_lr1e-5_tid1,2_b2_random missing user M07\n",
      "corpus_bleu_score_1: 0.22065714285714286 rouge_1: 0.2343333333333333 rouge_l: 0.22846666666666668\n",
      "M15:\tdataset Pereira and parameters llama-7b_lr1e-5_tid1,2_b2_random missing user M15\n",
      "corpus_bleu_score_1: 0.22065714285714286 rouge_1: 0.2343333333333333 rouge_l: 0.22846666666666668\n",
      "corpus_bleu_score_1: 0.22065714285714286 rouge_1: 0.2343333333333333 rouge_l: 0.2284666666666667 valid_loss: 2.6416330015659333\n",
      "corpus_bleu_score_1: 0.2712990476190476,0.22065714285714286,1.2887060778078526e-17\n",
      "rouge_1: 0.27086857142857146, 0.2343333333333333, 6.269643565144398e-07\n",
      "rouge_l: 0.26288190476190476, 0.2284666666666667, 1.2823860031004663e-06\n",
      "valid_loss: 2.1449787120223047, 2.6416330015659333, 2.256590749190043e-122\n",
      "bert_scores: nan, nan, nan\n",
      "bert_scores_part: nan, nan, nan\n",
      "\n"
     ]
    }
   ],
   "source": [
    "result_1 = get_iterate_results(base_path = '../../history/decoding0913/results/', para_str = 'llama-7b_lr1e-5_tid1,2_b2', dataset_name='Pereira', print_log=True, bert_metric=None)\n",
    "result_2 = get_iterate_results(base_path = '../../history/decoding0913/results/', para_str = 'llama-7b_lr1e-5_tid1,2_b2_random', dataset_name='Pereira', print_log=True, bert_metric=None)\n",
    "show_significance(result_1, result_2)\n",
    "# 漏加pos了...\n",
    "\n"
   ]
  },
  {
   "cell_type": "code",
   "execution_count": 12,
   "id": "3c9e8f0d",
   "metadata": {},
   "outputs": [
    {
     "name": "stdout",
     "output_type": "stream",
     "text": [
      "1:\tcorpus_bleu_score_1: 0.114 rouge_1: 0.119 rouge_l: 0.115 loss: 4.342\n",
      "2:\tcorpus_bleu_score_1: 0.117 rouge_1: 0.123 rouge_l: 0.118 loss: 4.375\n",
      "3:\tcorpus_bleu_score_1: 0.115 rouge_1: 0.121 rouge_l: 0.116 loss: 4.362\n",
      "corpus_bleu_score_1: 0.11526122168287148 rouge_1: 0.12081493751879935 rouge_l: 0.11625906006363992 valid_loss: 4.359704730230637\n",
      "1:\tcorpus_bleu_score_1: 0.126 rouge_1: 0.133 rouge_l: 0.128 loss: 4.246\n",
      "2:\tdataset ds003020 and parameters llama-7b_lr1e-5_b4_pos_random missing user 2\n",
      "corpus_bleu_score_1: 0.126 rouge_1: 0.133 rouge_l: 0.128 loss: 4.246\n",
      "3:\tdataset ds003020 and parameters llama-7b_lr1e-5_b4_pos_random missing user 3\n",
      "corpus_bleu_score_1: 0.126 rouge_1: 0.133 rouge_l: 0.128 loss: 4.246\n",
      "corpus_bleu_score_1: 0.126471666447417 rouge_1: 0.13339251633934343 rouge_l: 0.12846536347409623 valid_loss: 4.246164052458196\n",
      "corpus_bleu_score_1: 0.11526122168287148,0.126471666447417,1.8428451602871382e-14\n",
      "rouge_1: 0.12081493751879935, 0.13339251633934343, 5.588893677638089e-11\n",
      "rouge_l: 0.11625906006363992, 0.12846536347409623, 6.124001004723648e-11\n",
      "valid_loss: 4.359704730230637, 4.246164052458196, 3.563630044682065e-21\n",
      "bert_scores: nan, nan, nan\n",
      "bert_scores_part: nan, nan, nan\n",
      "\n"
     ]
    }
   ],
   "source": [
    "user_list = ['1','2','3']\n",
    "result_1 = get_iterate_results(base_path = '../results/', para_str = 'llama-7b_lr1e-5_b4_pos', dataset_name='ds003020', print_log=True, bert_metric=None,user_list = user_list)\n",
    "result_2 = get_iterate_results(base_path = '../results/', para_str = 'llama-7b_lr1e-5_b4_pos_random', dataset_name='ds003020', print_log=True, bert_metric=None,user_list = user_list)\n",
    "show_significance(result_1, result_2)\n",
    "# 漏加pos了...\n",
    "\n"
   ]
  },
  {
   "cell_type": "code",
   "execution_count": 14,
   "id": "6f03ee3a",
   "metadata": {},
   "outputs": [
    {
     "name": "stdout",
     "output_type": "stream",
     "text": [
      "F:\tcorpus_bleu_score_1: 0.082 rouge_1: 0.056 rouge_l: 0.056 loss: 4.910\n",
      "I:\tcorpus_bleu_score_1: 0.133 rouge_1: 0.097 rouge_l: 0.097 loss: 4.145\n",
      "J:\tcorpus_bleu_score_1: 0.104 rouge_1: 0.045 rouge_l: 0.045 loss: 7.868\n",
      "H:\tcorpus_bleu_score_1: 0.078 rouge_1: 0.042 rouge_l: 0.042 loss: 6.144\n",
      "K:\tcorpus_bleu_score_1: 0.113 rouge_1: 0.078 rouge_l: 0.078 loss: 4.427\n",
      "L:\tcorpus_bleu_score_1: 0.112 rouge_1: 0.082 rouge_l: 0.082 loss: 4.805\n",
      "M:\tcorpus_bleu_score_1: 0.090 rouge_1: 0.063 rouge_l: 0.063 loss: 4.925\n",
      "N:\tcorpus_bleu_score_1: 0.090 rouge_1: 0.068 rouge_l: 0.067 loss: 4.827\n",
      "corpus_bleu_score_1: 0.10031644515744642 rouge_1: 0.06654371584699453 rouge_l: 0.06630464480874317 valid_loss: 5.256412820908867\n",
      "F:\tcorpus_bleu_score_1: 0.099 rouge_1: 0.077 rouge_l: 0.076 loss: 4.740\n",
      "I:\tdataset HP and parameters gpt2-medium_lr1e-5_b4_random missing user I\n",
      "corpus_bleu_score_1: 0.099 rouge_1: 0.077 rouge_l: 0.076 loss: 4.740\n",
      "J:\tdataset HP and parameters gpt2-medium_lr1e-5_b4_random missing user J\n",
      "corpus_bleu_score_1: 0.099 rouge_1: 0.077 rouge_l: 0.076 loss: 4.740\n",
      "H:\tdataset HP and parameters gpt2-medium_lr1e-5_b4_random missing user H\n",
      "corpus_bleu_score_1: 0.099 rouge_1: 0.077 rouge_l: 0.076 loss: 4.740\n",
      "K:\tdataset HP and parameters gpt2-medium_lr1e-5_b4_random missing user K\n",
      "corpus_bleu_score_1: 0.099 rouge_1: 0.077 rouge_l: 0.076 loss: 4.740\n",
      "L:\tdataset HP and parameters gpt2-medium_lr1e-5_b4_random missing user L\n",
      "corpus_bleu_score_1: 0.099 rouge_1: 0.077 rouge_l: 0.076 loss: 4.740\n",
      "M:\tdataset HP and parameters gpt2-medium_lr1e-5_b4_random missing user M\n",
      "corpus_bleu_score_1: 0.099 rouge_1: 0.077 rouge_l: 0.076 loss: 4.740\n",
      "N:\tdataset HP and parameters gpt2-medium_lr1e-5_b4_random missing user N\n",
      "corpus_bleu_score_1: 0.099 rouge_1: 0.077 rouge_l: 0.076 loss: 4.740\n",
      "corpus_bleu_score_1: 0.09866817225761171 rouge_1: 0.07714025500910747 rouge_l: 0.07577413479052823 valid_loss: 4.740262036245377\n",
      "corpus_bleu_score_1: 0.10031644515744642,0.09866817225761171,0.309611618358976\n",
      "rouge_1: 0.06654371584699453, 0.07714025500910747, 2.295025981731291e-07\n",
      "rouge_l: 0.06630464480874317, 0.07577413479052823, 2.7471616266135886e-06\n",
      "valid_loss: 5.256412820908867, 4.740262036245377, 8.687343085375605e-88\n",
      "bert_scores: nan, nan, nan\n",
      "bert_scores_part: nan, nan, nan\n",
      "\n"
     ]
    }
   ],
   "source": [
    "\n",
    "result_1 = get_iterate_results(base_path = '../results/', para_str = 'gpt2-medium_lr1e-5_b4', dataset_name='HP', print_log=True, bert_metric=None,)\n",
    "result_2 = get_iterate_results(base_path = '../results/', para_str = 'gpt2-medium_lr1e-5_b4_random', dataset_name='HP', print_log=True, bert_metric=None,)\n",
    "show_significance(result_1, result_2)\n",
    "# 漏加pos了...\n",
    "\n"
   ]
  }
 ],
 "metadata": {
  "kernelspec": {
   "display_name": "Python 3 (ipykernel)",
   "language": "python",
   "name": "python3"
  },
  "language_info": {
   "codemirror_mode": {
    "name": "ipython",
    "version": 3
   },
   "file_extension": ".py",
   "mimetype": "text/x-python",
   "name": "python",
   "nbconvert_exporter": "python",
   "pygments_lexer": "ipython3",
   "version": "3.8.12"
  }
 },
 "nbformat": 4,
 "nbformat_minor": 5
}
