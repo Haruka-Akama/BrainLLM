{
 "cells": [
  {
   "cell_type": "code",
   "execution_count": null,
   "id": "1216cd47",
   "metadata": {},
   "outputs": [],
   "source": [
    "# analyze the embedding of brain models and random models\n",
    "# ! one problem, may be the model have seen the random vectors before! \n",
    "\n",
    "# load brain model\n",
    "from transformers import GPT2LMHeadModel, GPT2Tokenizer, AutoTokenizer, AutoModel, LlamaForCausalLM, LlamaTokenizer\n",
    "import torch\n",
    "tokenizer = AutoTokenizer.from_pretrained('/home/yzy/.cache/huggingface/hub/models--gpt2-xl/snapshots/33cdb5c0db5423c1879b1b9f16c352988e8754a8')\n",
    "model = GPT2LMHeadModel.from_pretrained('/home/yzy/.cache/huggingface/hub/models--gpt2-xl/snapshots/33cdb5c0db5423c1879b1b9f16c352988e8754a8')\n",
    "device = torch.device(f'cuda:{args[\"cuda\"]}')\n",
    "model.to(device)\n"
   ]
  },
  {
   "cell_type": "code",
   "execution_count": 17,
   "id": "5aef0b83",
   "metadata": {},
   "outputs": [],
   "source": [
    "# analyze the embedding of brain models and random models\n",
    "# ! one problem, may be the model have seen the random vectors before! \n",
    "\n",
    "# load brain model\n",
    "from transformers import GPT2LMHeadModel, GPT2Tokenizer, AutoTokenizer, AutoModel, LlamaForCausalLM, LlamaTokenizer\n",
    "from model_utils import Encoding_model\n",
    "from data import FMRI_dataset\n",
    "import pickle\n",
    "import torch\n",
    "\n",
    "\n",
    "def get_vectors(checkpoint_path, task_name, input_dataset,random_input=False):\n",
    "    args = {\n",
    "        'model_name': 'gpt2-xl',\n",
    "        'cuda': '0',\n",
    "        'load_check_point': True,\n",
    "        'roi_selected': [],\n",
    "        'enable_grad': False,\n",
    "        'word_embed_size':1600,\n",
    "        'brain_embed_size':1000,\n",
    "        'method': 'decoding',\n",
    "        'task_name': task_name,\n",
    "        'add_end': False,\n",
    "        'data_splitting': 'trail_id',\n",
    "        'test_trail_ids': [1,2],\n",
    "        'mode': 'evaluate',\n",
    "        'random_input': random_input,\n",
    "        'fmri_pca': True\n",
    "    }\n",
    "    encoding_model = Encoding_model(args)\n",
    "    check_point = torch.load(checkpoint_path+'/model.pt')\n",
    "    encoding_model.load_state_dict(check_point['encoding_model'])\n",
    "\n",
    "    global tokenizer, model, device\n",
    "\n",
    "    input_dataset = FMRI_dataset(input_dataset, args, tokenizer=tokenizer)\n",
    "    vectors = []\n",
    "    for item in input_dataset.test:\n",
    "        item['additional_bs'].to(device)\n",
    "        vectors.append(encoding_model(item['additional_bs']).squeeze().detach().cpu().tolist())\n",
    "    return vectors\n",
    "\n",
    "\n",
    "\n"
   ]
  },
  {
   "cell_type": "code",
   "execution_count": 57,
   "id": "b2c0d227",
   "metadata": {},
   "outputs": [],
   "source": [
    "vec1 = get_vectors(checkpoint_path = '../results/Pereira_M02_gpt2-xl_lr1e-5_tid1,2', task_name = 'Pereira_M02', input_dataset = pickle.load(open(f'../../dataset/preprocessed/Pereira/M02.wq.pkl','rb')))\n",
    "vec2 = get_vectors(checkpoint_path = '../results/Pereira_M02_gpt2-xl_lr1e-5_tid1,2_random', task_name = 'Pereira_M02', input_dataset = pickle.load(open(f'../../dataset/preprocessed/Pereira/M02.wq.pkl','rb')), random_input=True)\n"
   ]
  },
  {
   "cell_type": "code",
   "execution_count": 54,
   "id": "9746b2de",
   "metadata": {},
   "outputs": [],
   "source": [
    "vec1 = get_vectors(checkpoint_path = '../results/Pereira_M02_gpt2-xl_lr1e-5_tid1,2_a0.1f0.25', task_name = 'Pereira_M02', input_dataset = pickle.load(open(f'../../dataset/preprocessed/Pereira/M02.wq.pkl','rb')))\n",
    "vec2 = get_vectors(checkpoint_path = '../results/Pereira_P01_gpt2-xl_lr1e-5_tid1,2_a0.1f0.25_random', task_name = 'Pereira_P01', input_dataset = pickle.load(open(f'../../dataset/preprocessed/Pereira/P01.wq.pkl','rb')), random_input=True)\n"
   ]
  },
  {
   "cell_type": "code",
   "execution_count": 49,
   "id": "7c0fa2bc",
   "metadata": {},
   "outputs": [],
   "source": [
    "model_dict = torch.load('../../history/decoding0710/results/HP_H_gpt2-xl_lr1e-5_a0.1f0.25/model.pt')"
   ]
  },
  {
   "cell_type": "code",
   "execution_count": 50,
   "id": "8b44311b",
   "metadata": {},
   "outputs": [
    {
     "data": {
      "text/plain": [
       "dict_keys(['new_tokens'])"
      ]
     },
     "execution_count": 50,
     "metadata": {},
     "output_type": "execute_result"
    }
   ],
   "source": [
    "model_dict.keys()"
   ]
  },
  {
   "cell_type": "code",
   "execution_count": 24,
   "id": "35dd9e2a",
   "metadata": {},
   "outputs": [],
   "source": [
    "import copy\n",
    "vec3 = copy.deepcopy(model.transformer.wte.weight.detach().cpu().numpy())"
   ]
  },
  {
   "cell_type": "code",
   "execution_count": 27,
   "id": "29d1c4d7",
   "metadata": {},
   "outputs": [
    {
     "data": {
      "text/plain": [
       "(2000, 1600)"
      ]
     },
     "execution_count": 27,
     "metadata": {},
     "output_type": "execute_result"
    }
   ],
   "source": [
    "import numpy as np\n",
    "random_indices = np.random.choice(vec3.shape[0], size=2000, replace=False)\n",
    "random_vectors = vec3[random_indices]\n",
    "random_vectors.shape"
   ]
  },
  {
   "cell_type": "code",
   "execution_count": 56,
   "id": "9e0c43e5",
   "metadata": {},
   "outputs": [
    {
     "data": {
      "image/png": "[encoded data removed]",
      "text/plain": [
       "<Figure size 432x288 with 1 Axes>"
      ]
     },
     "metadata": {
      "needs_background": "light"
     },
     "output_type": "display_data"
    }
   ],
   "source": [
    "import numpy as np\n",
    "import matplotlib.pyplot as plt\n",
    "from sklearn.decomposition import PCA\n",
    "\n",
    "data = np.vstack((vec1, vec2, random_vectors))\n",
    "\n",
    "# 使用PCA进行降维\n",
    "pca = PCA(n_components=2)\n",
    "reduced_data = pca.fit_transform(data)\n",
    "\n",
    "# 将降维后的数据分割回两组\n",
    "reduced_group1 = reduced_data[:250]\n",
    "reduced_group2 = reduced_data[250:500]\n",
    "reduced_group3 = reduced_data[500:]\n",
    "plt.cla()\n",
    "plt.scatter(reduced_group3[:, 0], reduced_group3[:, 1], c='yellow', label='LLMs')\n",
    "plt.scatter(reduced_group1[:, 0], reduced_group1[:, 1], c='red', label='BrainPrompt')\n",
    "plt.scatter(reduced_group2[:, 0], reduced_group2[:, 1], c='blue', label='Random')\n",
    "plt.legend()\n",
    "plt.xlim(-200,800)\n",
    "plt.xlabel('Principal Component 1')\n",
    "plt.ylabel('Principal Component 2')\n",
    "plt.title('PCA Visualization')\n",
    "plt.show()\n",
    "\n"
   ]
  },
  {
   "cell_type": "code",
   "execution_count": 39,
   "id": "f7d73f99",
   "metadata": {},
   "outputs": [
    {
     "data": {
      "text/plain": [
       "(250, 2)"
      ]
     },
     "execution_count": 39,
     "metadata": {},
     "output_type": "execute_result"
    }
   ],
   "source": [
    "reduced_group1.shape"
   ]
  },
  {
   "cell_type": "code",
   "execution_count": 37,
   "id": "97f6fa01",
   "metadata": {},
   "outputs": [
    {
     "data": {
      "text/plain": [
       "array([680.98138543,  82.95155204])"
      ]
     },
     "execution_count": 37,
     "metadata": {},
     "output_type": "execute_result"
    }
   ],
   "source": [
    "reduced_group1[0]"
   ]
  },
  {
   "cell_type": "code",
   "execution_count": 38,
   "id": "ac74f4a9",
   "metadata": {},
   "outputs": [
    {
     "data": {
      "text/plain": [
       "array([-57.17877047,  -0.05835567])"
      ]
     },
     "execution_count": 38,
     "metadata": {},
     "output_type": "execute_result"
    }
   ],
   "source": [
    "reduced_group3[1000]"
   ]
  },
  {
   "cell_type": "code",
   "execution_count": 43,
   "id": "3fe085ef",
   "metadata": {},
   "outputs": [
    {
     "data": {
      "text/plain": [
       "array([-57.17248936,  -0.05742494])"
      ]
     },
     "execution_count": 43,
     "metadata": {},
     "output_type": "execute_result"
    }
   ],
   "source": [
    "reduced_group3[1500]"
   ]
  },
  {
   "cell_type": "code",
   "execution_count": 33,
   "id": "1783b272",
   "metadata": {},
   "outputs": [
    {
     "data": {
      "text/plain": [
       "(250, 1600)"
      ]
     },
     "execution_count": 33,
     "metadata": {},
     "output_type": "execute_result"
    }
   ],
   "source": [
    "np.array(vec1).shape"
   ]
  },
  {
   "cell_type": "code",
   "execution_count": 31,
   "id": "c30194dd",
   "metadata": {},
   "outputs": [
    {
     "data": {
      "text/plain": [
       "(2500, 1600)"
      ]
     },
     "execution_count": 31,
     "metadata": {},
     "output_type": "execute_result"
    }
   ],
   "source": [
    "data.shape"
   ]
  },
  {
   "cell_type": "code",
   "execution_count": 1,
   "id": "fddc1aa9",
   "metadata": {},
   "outputs": [
    {
     "name": "stdout",
     "output_type": "stream",
     "text": [
      "tensor([ 0.0274, -0.0184, -0.0071, -0.0296, -0.0276, -0.0106, -0.0220, -0.0145,\n",
      "        -0.0288,  0.0286,  0.0129,  0.0097,  0.0415,  0.0086, -0.0400,  0.0526,\n",
      "        -0.0255,  0.0100,  0.0262,  0.0082,  0.0168, -0.0444, -0.0214,  0.0229,\n",
      "        -0.0008, -0.0246,  0.0250,  0.0212, -0.0530,  0.0402, -0.0222,  0.0540,\n",
      "         0.0165, -0.0464, -0.0367, -0.0248,  0.0220,  0.0504,  0.0235, -0.0042,\n",
      "        -0.0108, -0.0027,  0.0291,  0.0190,  0.0541,  0.0218,  0.0132,  0.0182,\n",
      "        -0.0085, -0.0160, -0.0160,  0.0353,  0.0107,  0.0451, -0.0253,  0.0108,\n",
      "         0.0168, -0.0129,  0.0375,  0.0192,  0.0559, -0.0543, -0.0113, -0.0245,\n",
      "        -0.0109,  0.0500,  0.0241, -0.0082,  0.0261, -0.0097,  0.0198,  0.0398,\n",
      "         0.0094,  0.0289, -0.0157, -0.0061, -0.0437, -0.0348,  0.0280, -0.0220,\n",
      "        -0.0107,  0.0378,  0.0212,  0.0072,  0.0354, -0.0478,  0.0162,  0.0385,\n",
      "        -0.0300,  0.0080, -0.0459,  0.0226,  0.0201,  0.0455,  0.0058, -0.0404,\n",
      "         0.0104, -0.0131,  0.0137, -0.0341])\n",
      "tensor([ 0.0274, -0.0184, -0.0071, -0.0296, -0.0276, -0.0106, -0.0220, -0.0145,\n",
      "        -0.0288,  0.0286,  0.0129,  0.0097,  0.0415,  0.0086, -0.0400,  0.0526,\n",
      "        -0.0255,  0.0100,  0.0262,  0.0082,  0.0168, -0.0444, -0.0214,  0.0229,\n",
      "        -0.0008, -0.0246,  0.0250,  0.0212, -0.0530,  0.0402, -0.0222,  0.0540,\n",
      "         0.0165, -0.0464, -0.0367, -0.0248,  0.0220,  0.0504,  0.0235, -0.0042,\n",
      "        -0.0108, -0.0027,  0.0291,  0.0190,  0.0541,  0.0218,  0.0132,  0.0182,\n",
      "        -0.0085, -0.0160, -0.0160,  0.0353,  0.0107,  0.0451, -0.0253,  0.0108,\n",
      "         0.0168, -0.0129,  0.0375,  0.0192,  0.0559, -0.0543, -0.0113, -0.0245,\n",
      "        -0.0109,  0.0500,  0.0241, -0.0082,  0.0261, -0.0097,  0.0198,  0.0398,\n",
      "         0.0094,  0.0289, -0.0157, -0.0061, -0.0437, -0.0348,  0.0280, -0.0220,\n",
      "        -0.0107,  0.0378,  0.0212,  0.0072,  0.0354, -0.0478,  0.0162,  0.0385,\n",
      "        -0.0300,  0.0080, -0.0459,  0.0226,  0.0201,  0.0455,  0.0058, -0.0404,\n",
      "         0.0104, -0.0131,  0.0137, -0.0341])\n"
     ]
    },
    {
     "ename": "RuntimeError",
     "evalue": "Error(s) in loading state_dict for Encoding_model:\n\tMissing key(s) in state_dict: \"mlp.position_embedding\". ",
     "output_type": "error",
     "traceback": [
      "\u001b[0;31m---------------------------------------------------------------------------\u001b[0m",
      "\u001b[0;31mRuntimeError\u001b[0m                              Traceback (most recent call last)",
      "Input \u001b[0;32mIn [1]\u001b[0m, in \u001b[0;36m<cell line: 11>\u001b[0;34m()\u001b[0m\n\u001b[1;32m      9\u001b[0m \u001b[38;5;28mprint\u001b[39m(checkpoint[\u001b[38;5;124m'\u001b[39m\u001b[38;5;124mnew_tokens\u001b[39m\u001b[38;5;124m'\u001b[39m][\u001b[38;5;241m1\u001b[39m][\u001b[38;5;241m100\u001b[39m:\u001b[38;5;241m200\u001b[39m])\n\u001b[1;32m     10\u001b[0m encoding_model \u001b[38;5;241m=\u001b[39m Encoding_model({\u001b[38;5;124m'\u001b[39m\u001b[38;5;124mbrain_embed_size\u001b[39m\u001b[38;5;124m'\u001b[39m:\u001b[38;5;241m1000\u001b[39m,\u001b[38;5;124m'\u001b[39m\u001b[38;5;124mword_embed_size\u001b[39m\u001b[38;5;124m'\u001b[39m:checkpoint[\u001b[38;5;124m'\u001b[39m\u001b[38;5;124mencoding_model\u001b[39m\u001b[38;5;124m'\u001b[39m][\u001b[38;5;124m'\u001b[39m\u001b[38;5;124mlinear.weight\u001b[39m\u001b[38;5;124m'\u001b[39m]\u001b[38;5;241m.\u001b[39mshape[\u001b[38;5;241m0\u001b[39m],\u001b[38;5;124m'\u001b[39m\u001b[38;5;124mpos\u001b[39m\u001b[38;5;124m'\u001b[39m:\u001b[38;5;28;01mTrue\u001b[39;00m})\n\u001b[0;32m---> 11\u001b[0m \u001b[43mencoding_model\u001b[49m\u001b[38;5;241;43m.\u001b[39;49m\u001b[43mload_state_dict\u001b[49m\u001b[43m(\u001b[49m\u001b[43mcheckpoint\u001b[49m\u001b[43m[\u001b[49m\u001b[38;5;124;43m'\u001b[39;49m\u001b[38;5;124;43mencoding_model\u001b[39;49m\u001b[38;5;124;43m'\u001b[39;49m\u001b[43m]\u001b[49m\u001b[43m)\u001b[49m\n\u001b[1;32m     12\u001b[0m data \u001b[38;5;241m=\u001b[39m pickle\u001b[38;5;241m.\u001b[39mload(\u001b[38;5;28mopen\u001b[39m(\u001b[38;5;124m'\u001b[39m\u001b[38;5;124m/home/bingxing2/home/scx7140/fmri/dataset/preprocessed/HP/raw_F.pca1000.wq.pkl\u001b[39m\u001b[38;5;124m'\u001b[39m,\u001b[38;5;124m'\u001b[39m\u001b[38;5;124mrb\u001b[39m\u001b[38;5;124m'\u001b[39m))[\u001b[38;5;124m'\u001b[39m\u001b[38;5;124mfmri_data\u001b[39m\u001b[38;5;124m'\u001b[39m][\u001b[38;5;241m0\u001b[39m]\n\u001b[1;32m     13\u001b[0m data_out1 \u001b[38;5;241m=\u001b[39m encoding_model(data)\n",
      "File \u001b[0;32m~/anaconda3/envs/torch/lib/python3.8/site-packages/torch/nn/modules/module.py:1482\u001b[0m, in \u001b[0;36mModule.load_state_dict\u001b[0;34m(self, state_dict, strict)\u001b[0m\n\u001b[1;32m   1477\u001b[0m         error_msgs\u001b[38;5;241m.\u001b[39minsert(\n\u001b[1;32m   1478\u001b[0m             \u001b[38;5;241m0\u001b[39m, \u001b[38;5;124m'\u001b[39m\u001b[38;5;124mMissing key(s) in state_dict: \u001b[39m\u001b[38;5;132;01m{}\u001b[39;00m\u001b[38;5;124m. \u001b[39m\u001b[38;5;124m'\u001b[39m\u001b[38;5;241m.\u001b[39mformat(\n\u001b[1;32m   1479\u001b[0m                 \u001b[38;5;124m'\u001b[39m\u001b[38;5;124m, \u001b[39m\u001b[38;5;124m'\u001b[39m\u001b[38;5;241m.\u001b[39mjoin(\u001b[38;5;124m'\u001b[39m\u001b[38;5;124m\"\u001b[39m\u001b[38;5;132;01m{}\u001b[39;00m\u001b[38;5;124m\"\u001b[39m\u001b[38;5;124m'\u001b[39m\u001b[38;5;241m.\u001b[39mformat(k) \u001b[38;5;28;01mfor\u001b[39;00m k \u001b[38;5;129;01min\u001b[39;00m missing_keys)))\n\u001b[1;32m   1481\u001b[0m \u001b[38;5;28;01mif\u001b[39;00m \u001b[38;5;28mlen\u001b[39m(error_msgs) \u001b[38;5;241m>\u001b[39m \u001b[38;5;241m0\u001b[39m:\n\u001b[0;32m-> 1482\u001b[0m     \u001b[38;5;28;01mraise\u001b[39;00m \u001b[38;5;167;01mRuntimeError\u001b[39;00m(\u001b[38;5;124m'\u001b[39m\u001b[38;5;124mError(s) in loading state_dict for \u001b[39m\u001b[38;5;132;01m{}\u001b[39;00m\u001b[38;5;124m:\u001b[39m\u001b[38;5;130;01m\\n\u001b[39;00m\u001b[38;5;130;01m\\t\u001b[39;00m\u001b[38;5;132;01m{}\u001b[39;00m\u001b[38;5;124m'\u001b[39m\u001b[38;5;241m.\u001b[39mformat(\n\u001b[1;32m   1483\u001b[0m                        \u001b[38;5;28mself\u001b[39m\u001b[38;5;241m.\u001b[39m\u001b[38;5;18m__class__\u001b[39m\u001b[38;5;241m.\u001b[39m\u001b[38;5;18m__name__\u001b[39m, \u001b[38;5;124m\"\u001b[39m\u001b[38;5;130;01m\\n\u001b[39;00m\u001b[38;5;130;01m\\t\u001b[39;00m\u001b[38;5;124m\"\u001b[39m\u001b[38;5;241m.\u001b[39mjoin(error_msgs)))\n\u001b[1;32m   1484\u001b[0m \u001b[38;5;28;01mreturn\u001b[39;00m _IncompatibleKeys(missing_keys, unexpected_keys)\n",
      "\u001b[0;31mRuntimeError\u001b[0m: Error(s) in loading state_dict for Encoding_model:\n\tMissing key(s) in state_dict: \"mlp.position_embedding\". "
     ]
    }
   ],
   "source": [
    "import torch\n",
    "from model_utils import Encoding_model \n",
    "import pickle\n",
    "\n",
    "model_path = '/home/yzy/fmri/history/decoding0907/results/HP_F_gpt2-xl_lr1e-4_random/model.pt'\n",
    "# model_path = '/home/bingxing2/home/scx7140/fmri/decoding/results/HP_F_gpt2-xl_lr1e-5_b4_pos/model.pt'\n",
    "checkpoint = torch.load(model_path, map_location='cpu')\n",
    "encoding_model = Encoding_model({'brain_embed_size':1000,'word_embed_size':checkpoint['encoding_model']['linear.weight'].shape[0],'pos':True})\n",
    "encoding_model.load_state_dict(checkpoint['encoding_model'])\n",
    "data = pickle.load(open('/home/bingxing2/home/scx7140/fmri/dataset/preprocessed/HP/raw_F.pca1000.wq.pkl','rb'))['fmri_data'][0]\n",
    "data_out1 = encoding_model(data)\n",
    "encoding_model.MLP.position_index = False\n",
    "data_out2 = encoding_model(data)\n",
    "\n",
    "print(data_out1)\n",
    "print(data_out2)\n"
   ]
  }
 ],
 "metadata": {
  "kernelspec": {
   "display_name": "Python 3 (ipykernel)",
   "language": "python",
   "name": "python3"
  },
  "language_info": {
   "codemirror_mode": {
    "name": "ipython",
    "version": 3
   },
   "file_extension": ".py",
   "mimetype": "text/x-python",
   "name": "python",
   "nbconvert_exporter": "python",
   "pygments_lexer": "ipython3",
   "version": "3.8.12"
  }
 },
 "nbformat": 4,
 "nbformat_minor": 5
}
